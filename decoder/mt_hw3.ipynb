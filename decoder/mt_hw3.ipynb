{
 "cells": [
  {
   "cell_type": "code",
   "execution_count": null,
   "metadata": {
    "collapsed": true
   },
   "outputs": [],
   "source": []
  },
  {
   "cell_type": "code",
   "execution_count": 41,
   "metadata": {
    "collapsed": true
   },
   "outputs": [],
   "source": [
    "import models\n",
    "import numpy as np"
   ]
  },
  {
   "cell_type": "code",
   "execution_count": 42,
   "metadata": {},
   "outputs": [
    {
     "name": "stderr",
     "output_type": "stream",
     "text": [
      "Reading translation model from data/tm...\n",
      "Reading language model from data/lm...\n"
     ]
    }
   ],
   "source": [
    "#!/usr/bin/env python\n",
    "import optparse\n",
    "import sys\n",
    "import models\n",
    "from collections import namedtuple\n",
    "\n",
    "\n",
    "\"\"\"\n",
    "optparser = optparse.OptionParser()\n",
    "optparser.add_option(\"-i\", \"--input\", dest=\"input\", default=\"data/input\", help=\"File containing sentences to translate (default=data/input)\")\n",
    "optparser.add_option(\"-t\", \"--translation-model\", dest=\"tm\", default=\"data/tm\", help=\"File containing translation model (default=data/tm)\")\n",
    "optparser.add_option(\"-l\", \"--language-model\", dest=\"lm\", default=\"data/lm\", help=\"File containing ARPA-format language model (default=data/lm)\")\n",
    "optparser.add_option(\"-n\", \"--num_sentences\", dest=\"num_sents\", default=sys.maxint, type=\"int\", help=\"Number of sentences to decode (default=no limit)\")\n",
    "optparser.add_option(\"-k\", \"--translations-per-phrase\", dest=\"k\", default=1, type=\"int\", help=\"Limit on number of translations to consider per phrase (default=1)\")\n",
    "optparser.add_option(\"-s\", \"--stack-size\", dest=\"s\", default=1, type=\"int\", help=\"Maximum stack size (default=1)\")\n",
    "optparser.add_option(\"-v\", \"--verbose\", dest=\"verbose\", action=\"store_true\", default=False,  help=\"Verbose mode (default=off)\")\n",
    "opts = optparser.parse_args()[0]\n",
    "\n",
    "\"\"\"\n",
    "\n",
    "tm = models.TM(\"data/tm\", 3) # 3 = number of translations per foreign phrase\n",
    "lm = models.LM(\"data/lm\")\n",
    "french = [tuple(line.strip().split()) for line in open(\"data/input\").readlines()[:1]] # 3 is input foreign sentences to translate\n",
    "\n",
    "# tm should translate unknown words as-is with probability 1\n",
    "for word in set(sum(french,())):\n",
    "    if (word,) not in tm:\n",
    "        tm[(word,)] = [models.phrase(word, 0.0)]"
   ]
  },
  {
   "cell_type": "code",
   "execution_count": null,
   "metadata": {},
   "outputs": [],
   "source": []
  },
  {
   "cell_type": "code",
   "execution_count": 43,
   "metadata": {},
   "outputs": [
    {
     "name": "stdout",
     "output_type": "stream",
     "text": [
      "[('honorables', 's\\xc3\\xa9nateurs', ',', 'que', 'se', 'est', '-', 'il', 'pass\\xc3\\xa9', 'ici', ',', 'mardi', 'dernier', '?')]\n"
     ]
    }
   ],
   "source": [
    "print french"
   ]
  },
  {
   "cell_type": "code",
   "execution_count": 173,
   "metadata": {
    "collapsed": true
   },
   "outputs": [],
   "source": [
    "X = french[0]"
   ]
  },
  {
   "cell_type": "code",
   "execution_count": 119,
   "metadata": {},
   "outputs": [],
   "source": [
    "q0 = np.array([[\"<s>\", \"<s>\", [False]*len(X), 0, 0]])\n",
    "beam = dict.fromkeys(range(0, len(X)+1), np.empty([0,5]))\n",
    "backprop = dict()\n",
    "\n",
    "beam[0] = np.append(beam[0], q0, axis = 0)"
   ]
  },
  {
   "cell_type": "code",
   "execution_count": 120,
   "metadata": {},
   "outputs": [
    {
     "data": {
      "text/plain": [
       "{0: array([['<s>', '<s>', '00000000000000', '0', '0'],\n",
       "        ['<s>', '<s>', '00000000000000', '0', '0']], \n",
       "       dtype='|S32'),\n",
       " 1: array([], shape=(0, 5), dtype=float64),\n",
       " 2: array([], shape=(0, 5), dtype=float64),\n",
       " 3: array([], shape=(0, 5), dtype=float64),\n",
       " 4: array([], shape=(0, 5), dtype=float64),\n",
       " 5: array([], shape=(0, 5), dtype=float64),\n",
       " 6: array([], shape=(0, 5), dtype=float64),\n",
       " 7: array([], shape=(0, 5), dtype=float64),\n",
       " 8: array([], shape=(0, 5), dtype=float64),\n",
       " 9: array([], shape=(0, 5), dtype=float64),\n",
       " 10: array([], shape=(0, 5), dtype=float64),\n",
       " 11: array([], shape=(0, 5), dtype=float64),\n",
       " 12: array([], shape=(0, 5), dtype=float64),\n",
       " 13: array([], shape=(0, 5), dtype=float64),\n",
       " 14: array([], shape=(0, 5), dtype=float64)}"
      ]
     },
     "execution_count": 120,
     "metadata": {},
     "output_type": "execute_result"
    }
   ],
   "source": [
    "beam"
   ]
  },
  {
   "cell_type": "code",
   "execution_count": 130,
   "metadata": {},
   "outputs": [
    {
     "ename": "NameError",
     "evalue": "name 'get_pruned_beam' is not defined",
     "output_type": "error",
     "traceback": [
      "\u001b[0;31m---------------------------------------------------------------------------\u001b[0m",
      "\u001b[0;31mNameError\u001b[0m                                 Traceback (most recent call last)",
      "\u001b[0;32m<ipython-input-130-1174513b2b8e>\u001b[0m in \u001b[0;36m<module>\u001b[0;34m()\u001b[0m\n\u001b[1;32m      1\u001b[0m \u001b[0;32mfor\u001b[0m \u001b[0mkey\u001b[0m \u001b[0;32min\u001b[0m \u001b[0mxrange\u001b[0m\u001b[0;34m(\u001b[0m\u001b[0mlen\u001b[0m\u001b[0;34m(\u001b[0m\u001b[0mX\u001b[0m\u001b[0;34m)\u001b[0m\u001b[0;34m)\u001b[0m\u001b[0;34m:\u001b[0m\u001b[0;34m\u001b[0m\u001b[0m\n\u001b[0;32m----> 2\u001b[0;31m     \u001b[0;32mfor\u001b[0m \u001b[0mstate\u001b[0m \u001b[0;32min\u001b[0m \u001b[0mget_pruned_beam\u001b[0m\u001b[0;34m(\u001b[0m\u001b[0mbeam\u001b[0m\u001b[0;34m,\u001b[0m \u001b[0mkey\u001b[0m\u001b[0;34m)\u001b[0m\u001b[0;34m:\u001b[0m\u001b[0;34m\u001b[0m\u001b[0m\n\u001b[0m\u001b[1;32m      3\u001b[0m         \u001b[0;32mfor\u001b[0m \u001b[0mphrase\u001b[0m \u001b[0;32min\u001b[0m \u001b[0mgive_possible_phrases\u001b[0m\u001b[0;34m(\u001b[0m\u001b[0mstate\u001b[0m\u001b[0;34m)\u001b[0m\u001b[0;34m:\u001b[0m\u001b[0;34m\u001b[0m\u001b[0m\n\u001b[1;32m      4\u001b[0m \u001b[0;34m\u001b[0m\u001b[0m\n\u001b[1;32m      5\u001b[0m             \u001b[0mnew_state\u001b[0m \u001b[0;34m=\u001b[0m \u001b[0mpossible_phrase_state\u001b[0m\u001b[0;34m(\u001b[0m\u001b[0mphrase\u001b[0m\u001b[0;34m,\u001b[0m \u001b[0mstate\u001b[0m\u001b[0;34m)\u001b[0m\u001b[0;34m\u001b[0m\u001b[0m\n",
      "\u001b[0;31mNameError\u001b[0m: name 'get_pruned_beam' is not defined"
     ]
    }
   ],
   "source": [
    "for key in xrange(len(X)): \n",
    "    for state in get_pruned_beam(beam, key):\n",
    "        for phrase in give_possible_phrases(state):\n",
    "            \n",
    "            new_state = possible_phrase_state(phrase, state, X)\n",
    "            add_to_beam(beam, new_state, state, phrase)"
   ]
  },
  {
   "cell_type": "code",
   "execution_count": null,
   "metadata": {},
   "outputs": [],
   "source": []
  },
  {
   "cell_type": "code",
   "execution_count": 199,
   "metadata": {
    "scrolled": true
   },
   "outputs": [],
   "source": [
    "def phrase_trans(phrase, X):\n",
    "    \n",
    "    p = list(X)\n",
    "    q = list(phrase)\n",
    "    \n",
    "    idx = map(p.index, q)\n",
    "    bit_str = np.array([False] * len(X))\n",
    "    bit_str[idx] = True\n",
    "    \n",
    "    return list(bit_str)\n",
    "\n",
    "def possible_phrase_state(phrase, state, X):\n",
    "    \n",
    "    if len(phrase[2]) == 1:\n",
    "        e1 = phrase[2][0]\n",
    "        e2 = phrase[2][0]\n",
    "    else:\n",
    "        e1 = phrase[2][-2]\n",
    "        e2 = phrase[2][-1]\n",
    "    \n",
    "    b = state[2] or phrase_trans(phrase[2], X)\n",
    "    \n",
    "    r = phrase[1]\n",
    "    \n",
    "    \n",
    "def score(phrase):\n",
    "    \n",
    "    "
   ]
  },
  {
   "cell_type": "code",
   "execution_count": 201,
   "metadata": {},
   "outputs": [],
   "source": [
    "X\n",
    "\n",
    "p = X[0:3]"
   ]
  },
  {
   "cell_type": "code",
   "execution_count": 202,
   "metadata": {},
   "outputs": [
    {
     "name": "stdout",
     "output_type": "stream",
     "text": [
      "[True, True, True, False, False, False, False, False, False, False, False, False, False, False]\n"
     ]
    }
   ],
   "source": [
    "print phrase_trans(p, X)"
   ]
  },
  {
   "cell_type": "code",
   "execution_count": 193,
   "metadata": {},
   "outputs": [
    {
     "name": "stdout",
     "output_type": "stream",
     "text": [
      "<type 'list'>\n"
     ]
    }
   ],
   "source": []
  },
  {
   "cell_type": "code",
   "execution_count": 197,
   "metadata": {},
   "outputs": [
    {
     "name": "stdout",
     "output_type": "stream",
     "text": [
      "<type 'list'>\n",
      "True\n",
      "True\n"
     ]
    }
   ],
   "source": []
  },
  {
   "cell_type": "code",
   "execution_count": 141,
   "metadata": {},
   "outputs": [
    {
     "data": {
      "text/plain": [
       "('honorables', 's\\xc3\\xa9nateurs', ',')"
      ]
     },
     "execution_count": 141,
     "metadata": {},
     "output_type": "execute_result"
    }
   ],
   "source": [
    "z"
   ]
  },
  {
   "cell_type": "code",
   "execution_count": null,
   "metadata": {
    "collapsed": true
   },
   "outputs": [],
   "source": []
  }
 ],
 "metadata": {
  "kernelspec": {
   "display_name": "Python 2",
   "language": "python",
   "name": "python2"
  },
  "language_info": {
   "codemirror_mode": {
    "name": "ipython",
    "version": 2
   },
   "file_extension": ".py",
   "mimetype": "text/x-python",
   "name": "python",
   "nbconvert_exporter": "python",
   "pygments_lexer": "ipython2",
   "version": "2.7.13"
  }
 },
 "nbformat": 4,
 "nbformat_minor": 2
}
